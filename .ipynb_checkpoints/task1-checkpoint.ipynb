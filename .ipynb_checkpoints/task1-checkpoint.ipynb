{
 "cells": [
  {
   "cell_type": "code",
   "execution_count": 173,
   "id": "6d4a34d4",
   "metadata": {},
   "outputs": [
    {
     "name": "stdout",
     "output_type": "stream",
     "text": [
      "Request successful!\n"
     ]
    }
   ],
   "source": [
    "# # Do not forget to check if your notebook log collection plugin is working\n",
    "from mining_extension import check_logging\n",
    "check_logging(\"http://3.249.245.244:9999\")"
   ]
  },
  {
   "cell_type": "code",
   "execution_count": 174,
   "id": "4d3eb6ef",
   "metadata": {},
   "outputs": [],
   "source": [
    "# !pip install pandas"
   ]
  },
  {
   "cell_type": "code",
   "execution_count": 175,
   "id": "6a916519",
   "metadata": {},
   "outputs": [],
   "source": [
    "# !pip install scikit-learn"
   ]
  },
  {
   "cell_type": "code",
   "execution_count": 176,
   "id": "7e1dd34f",
   "metadata": {},
   "outputs": [],
   "source": [
    "# !pip install catboost\n",
    "# !pip install xgboost"
   ]
  },
  {
   "cell_type": "code",
   "execution_count": 5,
   "id": "a7138ebe",
   "metadata": {},
   "outputs": [],
   "source": [
    "# pip install alive-progress"
   ]
  },
  {
   "cell_type": "code",
   "execution_count": 6,
   "id": "5a6d91c1",
   "metadata": {},
   "outputs": [],
   "source": [
    "# !pip install tqdm"
   ]
  },
  {
   "cell_type": "code",
   "execution_count": 7,
   "id": "8a945ad6",
   "metadata": {},
   "outputs": [],
   "source": [
    "import pandas as pd\n",
    "import sklearn\n",
    "import catboost\n",
    "import sklearn.feature_extraction.text\n",
    "from sklearn.feature_extraction.text import TfidfVectorizer\n",
    "from sklearn.tree import DecisionTreeClassifier\n",
    "from catboost import CatBoostClassifier\n",
    "from sklearn.linear_model import LogisticRegression\n",
    "from sklearn.ensemble import RandomForestClassifier\n",
    "from sklearn.metrics import roc_auc_score\n",
    "from sklearn.model_selection import train_test_split\n",
    "import matplotlib.pyplot as plt\n",
    "from xgboost import XGBClassifier\n",
    "from sklearn.metrics import accuracy_score\n",
    "import numpy as np"
   ]
  },
  {
   "cell_type": "code",
   "execution_count": 8,
   "id": "340cf7a1",
   "metadata": {},
   "outputs": [],
   "source": [
    "import time\n",
    "from tqdm import tqdm\n",
    "import gc\n"
   ]
  },
  {
   "cell_type": "code",
   "execution_count": 9,
   "id": "48fc6646",
   "metadata": {},
   "outputs": [],
   "source": [
    "import zipfile\n",
    "with zipfile.ZipFile('data/task1/jetnet_logs.zip', 'r') as zip_ref:\n",
    "    zip_ref.extractall('data/task1')"
   ]
  },
  {
   "cell_type": "markdown",
   "id": "920d1326",
   "metadata": {},
   "source": [
    "# Data Engineering"
   ]
  },
  {
   "cell_type": "code",
   "execution_count": 10,
   "id": "d5b0c54a",
   "metadata": {},
   "outputs": [
    {
     "data": {
      "text/html": [
       "<div>\n",
       "<style scoped>\n",
       "    .dataframe tbody tr th:only-of-type {\n",
       "        vertical-align: middle;\n",
       "    }\n",
       "\n",
       "    .dataframe tbody tr th {\n",
       "        vertical-align: top;\n",
       "    }\n",
       "\n",
       "    .dataframe thead th {\n",
       "        text-align: right;\n",
       "    }\n",
       "</style>\n",
       "<table border=\"1\" class=\"dataframe\">\n",
       "  <thead>\n",
       "    <tr style=\"text-align: right;\">\n",
       "      <th></th>\n",
       "      <th>@User92: Action_3 (15/10/19 | 18:08:02) -&gt; Action_1 (15/10/19 | 18:54:49) -&gt; Action_10 (15/10/19 | 20:02:54) -&gt; Action_7 (15/10/19 | 20:26:56) -&gt; Action_0 (15/10/19 | 20:51:09) -&gt; Action_3 (15/10/19 | 22:00:47) -&gt; Action_0 (15/10/19 | 22:49:59) -&gt; Action_7 (15/10/19 | 23:08:43) -&gt; Action_7 (15/10/19 | 23:51:57) -&gt; Action_4 (16/10/19 | 00:10:14) -&gt; Action_8 (16/10/19 | 00:28:14) -&gt; Action_7 (16/10/19 | 01:04:24) -&gt; Action_7 (16/10/19 | 00:47:45) -&gt; Action_3 (16/10/19 | 00:34:58) -&gt; Action_10 (16/10/19 | 00:50:19) -&gt; Action_1 (16/10/19 | 00:54:43) -&gt; Action_1 (16/10/19 | 01:32:37) -&gt; Action_4 (16/10/19 | 01:39:53) -&gt; Action_8 (16/10/19 | 01:35:39) -&gt; Action_5 (16/10/19 | 02:41:46) -&gt; Action_10 (16/10/19 | 03:06:10) --&gt; Action_1 (16/10/19 | 03:37:28) -&gt; Action_8 (16/10/19 | 03:33:07) -&gt; Action_10 (16/10/19 | 03:49:30) -&gt; Action_7 (16/10/19 | 04:22:15) -&gt; Action_0 (16/10/19 | 04:23:57) -&gt; Action_3 (16/10/19 | 05:03:15) -&gt;</th>\n",
       "    </tr>\n",
       "  </thead>\n",
       "  <tbody>\n",
       "    <tr>\n",
       "      <th>0</th>\n",
       "      <td>@User140: Action_3 (15/05/20 | 15:37:04) -&gt; Ac...</td>\n",
       "    </tr>\n",
       "    <tr>\n",
       "      <th>1</th>\n",
       "      <td>@User105: Action_4 (25/04/20 | 01:08:29) -&gt; Ac...</td>\n",
       "    </tr>\n",
       "    <tr>\n",
       "      <th>2</th>\n",
       "      <td>@User127: Action_1 (20/06/20 | 00:24:48) -&gt; Ac...</td>\n",
       "    </tr>\n",
       "    <tr>\n",
       "      <th>3</th>\n",
       "      <td>@User50: Action_4 (09/10/19 | 15:12:52) --&gt; Ac...</td>\n",
       "    </tr>\n",
       "    <tr>\n",
       "      <th>4</th>\n",
       "      <td>@User51: Action_3 (09/01/20 | 18:19:40) -&gt; Act...</td>\n",
       "    </tr>\n",
       "  </tbody>\n",
       "</table>\n",
       "</div>"
      ],
      "text/plain": [
       "  @User92: Action_3 (15/10/19 | 18:08:02) -> Action_1 (15/10/19 | 18:54:49) -> Action_10 (15/10/19 | 20:02:54) -> Action_7 (15/10/19 | 20:26:56) -> Action_0 (15/10/19 | 20:51:09) -> Action_3 (15/10/19 | 22:00:47) -> Action_0 (15/10/19 | 22:49:59) -> Action_7 (15/10/19 | 23:08:43) -> Action_7 (15/10/19 | 23:51:57) -> Action_4 (16/10/19 | 00:10:14) -> Action_8 (16/10/19 | 00:28:14) -> Action_7 (16/10/19 | 01:04:24) -> Action_7 (16/10/19 | 00:47:45) -> Action_3 (16/10/19 | 00:34:58) -> Action_10 (16/10/19 | 00:50:19) -> Action_1 (16/10/19 | 00:54:43) -> Action_1 (16/10/19 | 01:32:37) -> Action_4 (16/10/19 | 01:39:53) -> Action_8 (16/10/19 | 01:35:39) -> Action_5 (16/10/19 | 02:41:46) -> Action_10 (16/10/19 | 03:06:10) --> Action_1 (16/10/19 | 03:37:28) -> Action_8 (16/10/19 | 03:33:07) -> Action_10 (16/10/19 | 03:49:30) -> Action_7 (16/10/19 | 04:22:15) -> Action_0 (16/10/19 | 04:23:57) -> Action_3 (16/10/19 | 05:03:15) -> \n",
       "0  @User140: Action_3 (15/05/20 | 15:37:04) -> Ac...                                                                                                                                                                                                                                                                                                                                                                                                                                                                                                                                                                                                                                                                                                                                                                                                                                                                                                                  \n",
       "1  @User105: Action_4 (25/04/20 | 01:08:29) -> Ac...                                                                                                                                                                                                                                                                                                                                                                                                                                                                                                                                                                                                                                                                                                                                                                                                                                                                                                                  \n",
       "2  @User127: Action_1 (20/06/20 | 00:24:48) -> Ac...                                                                                                                                                                                                                                                                                                                                                                                                                                                                                                                                                                                                                                                                                                                                                                                                                                                                                                                  \n",
       "3  @User50: Action_4 (09/10/19 | 15:12:52) --> Ac...                                                                                                                                                                                                                                                                                                                                                                                                                                                                                                                                                                                                                                                                                                                                                                                                                                                                                                                  \n",
       "4  @User51: Action_3 (09/01/20 | 18:19:40) -> Act...                                                                                                                                                                                                                                                                                                                                                                                                                                                                                                                                                                                                                                                                                                                                                                                                                                                                                                                  "
      ]
     },
     "execution_count": 10,
     "metadata": {},
     "output_type": "execute_result"
    }
   ],
   "source": [
    "data = pd.read_csv('data/task1/jetnet_logs.txt', delimiter='\\t')\n",
    "data.head()"
   ]
  },
  {
   "cell_type": "code",
   "execution_count": 11,
   "id": "d797dad0",
   "metadata": {},
   "outputs": [],
   "source": [
    "with open('data/task1/jetnet_logs.txt') as f:\n",
    "    content = f.readline()"
   ]
  },
  {
   "cell_type": "code",
   "execution_count": 12,
   "id": "ead880c1",
   "metadata": {},
   "outputs": [
    {
     "data": {
      "text/plain": [
       "['@User92',\n",
       " [['Action_3', '(15/10/19 | 18:08:02)'],\n",
       "  ['Action_1', '(15/10/19 | 18:54:49)'],\n",
       "  ['Action_10', '(15/10/19 | 20:02:54)'],\n",
       "  ['Action_7', '(15/10/19 | 20:26:56)'],\n",
       "  ['Action_0', '(15/10/19 | 20:51:09)'],\n",
       "  ['Action_3', '(15/10/19 | 22:00:47)'],\n",
       "  ['Action_0', '(15/10/19 | 22:49:59)'],\n",
       "  ['Action_7', '(15/10/19 | 23:08:43)'],\n",
       "  ['Action_7', '(15/10/19 | 23:51:57)'],\n",
       "  ['Action_4', '(16/10/19 | 00:10:14)'],\n",
       "  ['Action_8', '(16/10/19 | 00:28:14)'],\n",
       "  ['Action_7', '(16/10/19 | 01:04:24)'],\n",
       "  ['Action_7', '(16/10/19 | 00:47:45)'],\n",
       "  ['Action_3', '(16/10/19 | 00:34:58)'],\n",
       "  ['Action_10', '(16/10/19 | 00:50:19)'],\n",
       "  ['Action_1', '(16/10/19 | 00:54:43)'],\n",
       "  ['Action_1', '(16/10/19 | 01:32:37)'],\n",
       "  ['Action_4', '(16/10/19 | 01:39:53)'],\n",
       "  ['Action_8', '(16/10/19 | 01:35:39)'],\n",
       "  ['Action_5', '(16/10/19 | 02:41:46)'],\n",
       "  ['Action_10', '(16/10/19 | 03:06:10)'],\n",
       "  ['Action_1', '(16/10/19 | 03:37:28)'],\n",
       "  ['Action_8', '(16/10/19 | 03:33:07)'],\n",
       "  ['Action_10', '(16/10/19 | 03:49:30)'],\n",
       "  ['Action_7', '(16/10/19 | 04:22:15)'],\n",
       "  ['Action_0', '(16/10/19 | 04:23:57)'],\n",
       "  ['Action_3', '(16/10/19 | 05:03:15)'],\n",
       "  ['']]]"
      ]
     },
     "execution_count": 12,
     "metadata": {},
     "output_type": "execute_result"
    }
   ],
   "source": [
    "l = content.strip().split(\":\", 1)\n",
    "# print(l[1])\n",
    "l[1] = l[1].replace('-->', '->').strip().split('->')\n",
    "# print(l[1])\n",
    "l[1] = list(map(lambda x: x.strip().split(\" \", 1), l[1]))\n",
    "# actions = [t[0] for t in l[1]]\n",
    "# timestamps = [t[1] for t in l[1]]\n",
    "l"
   ]
  },
  {
   "cell_type": "code",
   "execution_count": 20,
   "id": "9fb505d8",
   "metadata": {},
   "outputs": [
    {
     "data": {
      "text/html": [
       "<div>\n",
       "<style scoped>\n",
       "    .dataframe tbody tr th:only-of-type {\n",
       "        vertical-align: middle;\n",
       "    }\n",
       "\n",
       "    .dataframe tbody tr th {\n",
       "        vertical-align: top;\n",
       "    }\n",
       "\n",
       "    .dataframe thead th {\n",
       "        text-align: right;\n",
       "    }\n",
       "</style>\n",
       "<table border=\"1\" class=\"dataframe\">\n",
       "  <thead>\n",
       "    <tr style=\"text-align: right;\">\n",
       "      <th></th>\n",
       "      <th>user_id</th>\n",
       "      <th>session_num</th>\n",
       "      <th>action_time</th>\n",
       "      <th>action_name</th>\n",
       "    </tr>\n",
       "  </thead>\n",
       "  <tbody>\n",
       "  </tbody>\n",
       "</table>\n",
       "</div>"
      ],
      "text/plain": [
       "Empty DataFrame\n",
       "Columns: [user_id, session_num, action_time, action_name]\n",
       "Index: []"
      ]
     },
     "execution_count": 20,
     "metadata": {},
     "output_type": "execute_result"
    }
   ],
   "source": [
    "f = open('data/task1/jetnet_logs.txt')\n",
    "lines = f.readlines()\n",
    "columns = ['user_id', 'session_num', 'action_time','action_name']\n",
    "df = pd.DataFrame([], columns = columns)\n",
    "df"
   ]
  },
  {
   "cell_type": "code",
   "execution_count": 192,
   "id": "5b167cca",
   "metadata": {},
   "outputs": [
    {
     "name": "stderr",
     "output_type": "stream",
     "text": [
      "87192it [00:05, 15993.04it/s]\n"
     ]
    }
   ],
   "source": [
    "d = []\n",
    "session = 0\n",
    "for n, line in tqdm(enumerate(np.array(lines))):\n",
    "#     if n > 500: break\n",
    "    line = line.strip()\n",
    "    if line:\n",
    "        l = line.split(\":\", 1)\n",
    "        ids = l[0].replace('@', '')\n",
    "        l = l[1]\n",
    "        l = l.replace('-->', '\\t').replace('->', '\\t').strip().split('\\t')\n",
    "        for i, action in enumerate(np.array(l)):\n",
    "            action = action.strip().split(\" \", 1)\n",
    "            data = [ids, -1, '', '']\n",
    "            if len(action) == 2:\n",
    "                data[1]= session\n",
    "                data[2] = action[1].strip()[1:-1]\n",
    "                data[3] = action[0].strip()\n",
    "            d.append(data)\n",
    "    session+=1"
   ]
  },
  {
   "cell_type": "code",
   "execution_count": 193,
   "id": "de8b5431",
   "metadata": {},
   "outputs": [
    {
     "data": {
      "text/html": [
       "<div>\n",
       "<style scoped>\n",
       "    .dataframe tbody tr th:only-of-type {\n",
       "        vertical-align: middle;\n",
       "    }\n",
       "\n",
       "    .dataframe tbody tr th {\n",
       "        vertical-align: top;\n",
       "    }\n",
       "\n",
       "    .dataframe thead th {\n",
       "        text-align: right;\n",
       "    }\n",
       "</style>\n",
       "<table border=\"1\" class=\"dataframe\">\n",
       "  <thead>\n",
       "    <tr style=\"text-align: right;\">\n",
       "      <th></th>\n",
       "      <th>user_id</th>\n",
       "      <th>session_num</th>\n",
       "      <th>action_time</th>\n",
       "      <th>action_name</th>\n",
       "    </tr>\n",
       "  </thead>\n",
       "  <tbody>\n",
       "    <tr>\n",
       "      <th>0</th>\n",
       "      <td>User92</td>\n",
       "      <td>0</td>\n",
       "      <td>15/10/19 | 18:08:02</td>\n",
       "      <td>Action_3</td>\n",
       "    </tr>\n",
       "    <tr>\n",
       "      <th>1</th>\n",
       "      <td>User92</td>\n",
       "      <td>0</td>\n",
       "      <td>15/10/19 | 18:54:49</td>\n",
       "      <td>Action_1</td>\n",
       "    </tr>\n",
       "    <tr>\n",
       "      <th>2</th>\n",
       "      <td>User92</td>\n",
       "      <td>0</td>\n",
       "      <td>15/10/19 | 20:02:54</td>\n",
       "      <td>Action_10</td>\n",
       "    </tr>\n",
       "    <tr>\n",
       "      <th>3</th>\n",
       "      <td>User92</td>\n",
       "      <td>0</td>\n",
       "      <td>15/10/19 | 20:26:56</td>\n",
       "      <td>Action_7</td>\n",
       "    </tr>\n",
       "    <tr>\n",
       "      <th>4</th>\n",
       "      <td>User92</td>\n",
       "      <td>0</td>\n",
       "      <td>15/10/19 | 20:51:09</td>\n",
       "      <td>Action_0</td>\n",
       "    </tr>\n",
       "    <tr>\n",
       "      <th>...</th>\n",
       "      <td>...</td>\n",
       "      <td>...</td>\n",
       "      <td>...</td>\n",
       "      <td>...</td>\n",
       "    </tr>\n",
       "    <tr>\n",
       "      <th>2053478</th>\n",
       "      <td>User112</td>\n",
       "      <td>87190</td>\n",
       "      <td>08/07/21 | 03:18:55</td>\n",
       "      <td>END</td>\n",
       "    </tr>\n",
       "    <tr>\n",
       "      <th>2053479</th>\n",
       "      <td>User76</td>\n",
       "      <td>87191</td>\n",
       "      <td>28/07/21 | 14:35:47</td>\n",
       "      <td>Action_7</td>\n",
       "    </tr>\n",
       "    <tr>\n",
       "      <th>2053480</th>\n",
       "      <td>User76</td>\n",
       "      <td>87191</td>\n",
       "      <td>28/07/21 | 15:09:53</td>\n",
       "      <td>Action_9</td>\n",
       "    </tr>\n",
       "    <tr>\n",
       "      <th>2053481</th>\n",
       "      <td>User76</td>\n",
       "      <td>87191</td>\n",
       "      <td>28/07/21 | 14:59:10</td>\n",
       "      <td>Action_1</td>\n",
       "    </tr>\n",
       "    <tr>\n",
       "      <th>2053482</th>\n",
       "      <td>User76</td>\n",
       "      <td>87191</td>\n",
       "      <td>28/07/21 | 15:41:31</td>\n",
       "      <td>END</td>\n",
       "    </tr>\n",
       "  </tbody>\n",
       "</table>\n",
       "<p>2053483 rows × 4 columns</p>\n",
       "</div>"
      ],
      "text/plain": [
       "         user_id  session_num          action_time action_name\n",
       "0         User92            0  15/10/19 | 18:08:02    Action_3\n",
       "1         User92            0  15/10/19 | 18:54:49    Action_1\n",
       "2         User92            0  15/10/19 | 20:02:54   Action_10\n",
       "3         User92            0  15/10/19 | 20:26:56    Action_7\n",
       "4         User92            0  15/10/19 | 20:51:09    Action_0\n",
       "...          ...          ...                  ...         ...\n",
       "2053478  User112        87190  08/07/21 | 03:18:55         END\n",
       "2053479   User76        87191  28/07/21 | 14:35:47    Action_7\n",
       "2053480   User76        87191  28/07/21 | 15:09:53    Action_9\n",
       "2053481   User76        87191  28/07/21 | 14:59:10    Action_1\n",
       "2053482   User76        87191  28/07/21 | 15:41:31         END\n",
       "\n",
       "[2053483 rows x 4 columns]"
      ]
     },
     "execution_count": 193,
     "metadata": {},
     "output_type": "execute_result"
    }
   ],
   "source": [
    "df = pd.DataFrame(d, columns = columns)\n",
    "df"
   ]
  },
  {
   "cell_type": "markdown",
   "id": "7e9ff4c2",
   "metadata": {},
   "source": [
    "filtration"
   ]
  },
  {
   "cell_type": "code",
   "execution_count": 194,
   "id": "9e491762",
   "metadata": {},
   "outputs": [
    {
     "data": {
      "text/plain": [
       "user_id        0\n",
       "session_num    0\n",
       "action_time    0\n",
       "action_name    0\n",
       "dtype: int64"
      ]
     },
     "execution_count": 194,
     "metadata": {},
     "output_type": "execute_result"
    }
   ],
   "source": [
    "df.isnull().sum()"
   ]
  },
  {
   "cell_type": "code",
   "execution_count": 198,
   "id": "bad7b168",
   "metadata": {},
   "outputs": [
    {
     "data": {
      "text/plain": [
       "1797       null\n",
       "2451       null\n",
       "4098       null\n",
       "4253       null\n",
       "4332           \n",
       "           ... \n",
       "2050042    null\n",
       "2050753    null\n",
       "2051255    null\n",
       "2051586    null\n",
       "2051769    null\n",
       "Name: action_time, Length: 2545, dtype: object"
      ]
     },
     "execution_count": 198,
     "metadata": {},
     "output_type": "execute_result"
    }
   ],
   "source": [
    "t = df['action_time'].str.match(r'^((\\d{2}|\\d)/\\d{2}/\\d{2} \\| \\d{2}:\\d{2}:\\d{2}$)')\n",
    "np.where(t == False)[0]\n",
    "df['action_time'][np.where(t == False)[0]]"
   ]
  },
  {
   "cell_type": "code",
   "execution_count": 199,
   "id": "366d7c6e",
   "metadata": {},
   "outputs": [],
   "source": [
    "df_new = df.drop(np.where(t == False)[0])"
   ]
  },
  {
   "cell_type": "code",
   "execution_count": 202,
   "id": "ff2a0b12",
   "metadata": {},
   "outputs": [
    {
     "data": {
      "text/plain": [
       "True"
      ]
     },
     "execution_count": 202,
     "metadata": {},
     "output_type": "execute_result"
    }
   ],
   "source": [
    "df_new['action_time'].str.match(r'^((\\d{2}|\\d)/\\d{2}/\\d{2} \\| \\d{2}:\\d{2}:\\d{2}$)').all()"
   ]
  },
  {
   "cell_type": "code",
   "execution_count": 203,
   "id": "d038df67",
   "metadata": {},
   "outputs": [],
   "source": [
    "from datetime import datetime as dt"
   ]
  },
  {
   "cell_type": "code",
   "execution_count": 204,
   "id": "b54e4193",
   "metadata": {},
   "outputs": [],
   "source": [
    "f = '%d/%m/%y | %H:%M:%S'\n",
    "f2 = '%Y-%m-%d %H:%M:%S'\n",
    "def to_datetime(x): \n",
    "    try: return dt.strptime(x, f) \n",
    "    except: return None\n",
    "#     except: return x\n",
    "df_new['datetime'] = df_new['action_time'].apply(to_datetime)"
   ]
  },
  {
   "cell_type": "code",
   "execution_count": 205,
   "id": "608cfa62",
   "metadata": {
    "scrolled": true
   },
   "outputs": [
    {
     "data": {
      "text/plain": [
       "user_id          0\n",
       "session_num      0\n",
       "action_time      0\n",
       "action_name      0\n",
       "datetime       229\n",
       "dtype: int64"
      ]
     },
     "execution_count": 205,
     "metadata": {},
     "output_type": "execute_result"
    }
   ],
   "source": [
    "df_new.isna().sum()"
   ]
  },
  {
   "cell_type": "code",
   "execution_count": 206,
   "id": "e1cbacfa",
   "metadata": {},
   "outputs": [],
   "source": [
    "df_new = df_new.dropna()"
   ]
  },
  {
   "cell_type": "code",
   "execution_count": 208,
   "id": "58c58545",
   "metadata": {},
   "outputs": [
    {
     "data": {
      "text/html": [
       "<div>\n",
       "<style scoped>\n",
       "    .dataframe tbody tr th:only-of-type {\n",
       "        vertical-align: middle;\n",
       "    }\n",
       "\n",
       "    .dataframe tbody tr th {\n",
       "        vertical-align: top;\n",
       "    }\n",
       "\n",
       "    .dataframe thead th {\n",
       "        text-align: right;\n",
       "    }\n",
       "</style>\n",
       "<table border=\"1\" class=\"dataframe\">\n",
       "  <thead>\n",
       "    <tr style=\"text-align: right;\">\n",
       "      <th></th>\n",
       "      <th>user_id</th>\n",
       "      <th>session_num</th>\n",
       "      <th>action_time</th>\n",
       "      <th>action_name</th>\n",
       "      <th>datetime</th>\n",
       "    </tr>\n",
       "  </thead>\n",
       "  <tbody>\n",
       "    <tr>\n",
       "      <th>0</th>\n",
       "      <td>User92</td>\n",
       "      <td>0</td>\n",
       "      <td>15/10/19 | 18:08:02</td>\n",
       "      <td>Action_3</td>\n",
       "      <td>2019-10-15 18:08:02</td>\n",
       "    </tr>\n",
       "    <tr>\n",
       "      <th>1</th>\n",
       "      <td>User92</td>\n",
       "      <td>0</td>\n",
       "      <td>15/10/19 | 18:54:49</td>\n",
       "      <td>Action_1</td>\n",
       "      <td>2019-10-15 18:54:49</td>\n",
       "    </tr>\n",
       "    <tr>\n",
       "      <th>2</th>\n",
       "      <td>User92</td>\n",
       "      <td>0</td>\n",
       "      <td>15/10/19 | 20:02:54</td>\n",
       "      <td>Action_10</td>\n",
       "      <td>2019-10-15 20:02:54</td>\n",
       "    </tr>\n",
       "    <tr>\n",
       "      <th>3</th>\n",
       "      <td>User92</td>\n",
       "      <td>0</td>\n",
       "      <td>15/10/19 | 20:26:56</td>\n",
       "      <td>Action_7</td>\n",
       "      <td>2019-10-15 20:26:56</td>\n",
       "    </tr>\n",
       "    <tr>\n",
       "      <th>4</th>\n",
       "      <td>User92</td>\n",
       "      <td>0</td>\n",
       "      <td>15/10/19 | 20:51:09</td>\n",
       "      <td>Action_0</td>\n",
       "      <td>2019-10-15 20:51:09</td>\n",
       "    </tr>\n",
       "    <tr>\n",
       "      <th>...</th>\n",
       "      <td>...</td>\n",
       "      <td>...</td>\n",
       "      <td>...</td>\n",
       "      <td>...</td>\n",
       "      <td>...</td>\n",
       "    </tr>\n",
       "    <tr>\n",
       "      <th>2053478</th>\n",
       "      <td>User112</td>\n",
       "      <td>87190</td>\n",
       "      <td>08/07/21 | 03:18:55</td>\n",
       "      <td>END</td>\n",
       "      <td>2021-07-08 03:18:55</td>\n",
       "    </tr>\n",
       "    <tr>\n",
       "      <th>2053479</th>\n",
       "      <td>User76</td>\n",
       "      <td>87191</td>\n",
       "      <td>28/07/21 | 14:35:47</td>\n",
       "      <td>Action_7</td>\n",
       "      <td>2021-07-28 14:35:47</td>\n",
       "    </tr>\n",
       "    <tr>\n",
       "      <th>2053480</th>\n",
       "      <td>User76</td>\n",
       "      <td>87191</td>\n",
       "      <td>28/07/21 | 15:09:53</td>\n",
       "      <td>Action_9</td>\n",
       "      <td>2021-07-28 15:09:53</td>\n",
       "    </tr>\n",
       "    <tr>\n",
       "      <th>2053481</th>\n",
       "      <td>User76</td>\n",
       "      <td>87191</td>\n",
       "      <td>28/07/21 | 14:59:10</td>\n",
       "      <td>Action_1</td>\n",
       "      <td>2021-07-28 14:59:10</td>\n",
       "    </tr>\n",
       "    <tr>\n",
       "      <th>2053482</th>\n",
       "      <td>User76</td>\n",
       "      <td>87191</td>\n",
       "      <td>28/07/21 | 15:41:31</td>\n",
       "      <td>END</td>\n",
       "      <td>2021-07-28 15:41:31</td>\n",
       "    </tr>\n",
       "  </tbody>\n",
       "</table>\n",
       "<p>2050709 rows × 5 columns</p>\n",
       "</div>"
      ],
      "text/plain": [
       "         user_id  session_num          action_time action_name   \n",
       "0         User92            0  15/10/19 | 18:08:02    Action_3  \\\n",
       "1         User92            0  15/10/19 | 18:54:49    Action_1   \n",
       "2         User92            0  15/10/19 | 20:02:54   Action_10   \n",
       "3         User92            0  15/10/19 | 20:26:56    Action_7   \n",
       "4         User92            0  15/10/19 | 20:51:09    Action_0   \n",
       "...          ...          ...                  ...         ...   \n",
       "2053478  User112        87190  08/07/21 | 03:18:55         END   \n",
       "2053479   User76        87191  28/07/21 | 14:35:47    Action_7   \n",
       "2053480   User76        87191  28/07/21 | 15:09:53    Action_9   \n",
       "2053481   User76        87191  28/07/21 | 14:59:10    Action_1   \n",
       "2053482   User76        87191  28/07/21 | 15:41:31         END   \n",
       "\n",
       "                   datetime  \n",
       "0       2019-10-15 18:08:02  \n",
       "1       2019-10-15 18:54:49  \n",
       "2       2019-10-15 20:02:54  \n",
       "3       2019-10-15 20:26:56  \n",
       "4       2019-10-15 20:51:09  \n",
       "...                     ...  \n",
       "2053478 2021-07-08 03:18:55  \n",
       "2053479 2021-07-28 14:35:47  \n",
       "2053480 2021-07-28 15:09:53  \n",
       "2053481 2021-07-28 14:59:10  \n",
       "2053482 2021-07-28 15:41:31  \n",
       "\n",
       "[2050709 rows x 5 columns]"
      ]
     },
     "execution_count": 208,
     "metadata": {},
     "output_type": "execute_result"
    }
   ],
   "source": [
    "df_new"
   ]
  },
  {
   "cell_type": "code",
   "execution_count": null,
   "id": "39507af3",
   "metadata": {},
   "outputs": [],
   "source": []
  },
  {
   "cell_type": "markdown",
   "id": "6591d919",
   "metadata": {},
   "source": [
    "# Metrics Evaluation"
   ]
  },
  {
   "cell_type": "code",
   "execution_count": 209,
   "id": "e3998e59",
   "metadata": {},
   "outputs": [],
   "source": [
    "import math"
   ]
  },
  {
   "cell_type": "markdown",
   "id": "cc6c824f",
   "metadata": {},
   "source": [
    "## Mean actions count per user overall"
   ]
  },
  {
   "cell_type": "code",
   "execution_count": 210,
   "id": "28147ee0",
   "metadata": {
    "scrolled": true
   },
   "outputs": [
    {
     "data": {
      "text/plain": [
       "user_id\n",
       "User0      12148\n",
       "User1      28900\n",
       "User10       665\n",
       "User100     1138\n",
       "User101    19353\n",
       "           ...  \n",
       "User95     15739\n",
       "User96     15433\n",
       "User97     12773\n",
       "User98       638\n",
       "User99      3397\n",
       "Name: action_name, Length: 143, dtype: int64"
      ]
     },
     "execution_count": 210,
     "metadata": {},
     "output_type": "execute_result"
    }
   ],
   "source": [
    "df.groupby('user_id')['action_name'].count()"
   ]
  },
  {
   "cell_type": "markdown",
   "id": "30c3908e",
   "metadata": {},
   "source": [
    "### ansewer"
   ]
  },
  {
   "cell_type": "code",
   "execution_count": 211,
   "id": "1e972eb3",
   "metadata": {},
   "outputs": [
    {
     "data": {
      "text/plain": [
       "14360.02097902098"
      ]
     },
     "execution_count": 211,
     "metadata": {},
     "output_type": "execute_result"
    }
   ],
   "source": [
    "sum(df.groupby('user_id')['action_name'].count())/len(df['user_id'].unique())"
   ]
  },
  {
   "cell_type": "markdown",
   "id": "5fbd819b",
   "metadata": {},
   "source": [
    "## Mean actions by user in a day"
   ]
  },
  {
   "cell_type": "code",
   "execution_count": 212,
   "id": "60f083a0",
   "metadata": {},
   "outputs": [],
   "source": [
    "df_new['day'] = df_new['datetime'].apply(lambda x: x.date().toordinal())"
   ]
  },
  {
   "cell_type": "code",
   "execution_count": 213,
   "id": "66f369ee",
   "metadata": {
    "scrolled": true
   },
   "outputs": [
    {
     "data": {
      "text/html": [
       "<div>\n",
       "<style scoped>\n",
       "    .dataframe tbody tr th:only-of-type {\n",
       "        vertical-align: middle;\n",
       "    }\n",
       "\n",
       "    .dataframe tbody tr th {\n",
       "        vertical-align: top;\n",
       "    }\n",
       "\n",
       "    .dataframe thead th {\n",
       "        text-align: right;\n",
       "    }\n",
       "</style>\n",
       "<table border=\"1\" class=\"dataframe\">\n",
       "  <thead>\n",
       "    <tr style=\"text-align: right;\">\n",
       "      <th></th>\n",
       "      <th>user_id</th>\n",
       "      <th>session_num</th>\n",
       "      <th>action_time</th>\n",
       "      <th>action_name</th>\n",
       "      <th>datetime</th>\n",
       "      <th>day</th>\n",
       "    </tr>\n",
       "  </thead>\n",
       "  <tbody>\n",
       "    <tr>\n",
       "      <th>0</th>\n",
       "      <td>User92</td>\n",
       "      <td>0</td>\n",
       "      <td>15/10/19 | 18:08:02</td>\n",
       "      <td>Action_3</td>\n",
       "      <td>2019-10-15 18:08:02</td>\n",
       "      <td>737347</td>\n",
       "    </tr>\n",
       "    <tr>\n",
       "      <th>1</th>\n",
       "      <td>User92</td>\n",
       "      <td>0</td>\n",
       "      <td>15/10/19 | 18:54:49</td>\n",
       "      <td>Action_1</td>\n",
       "      <td>2019-10-15 18:54:49</td>\n",
       "      <td>737347</td>\n",
       "    </tr>\n",
       "    <tr>\n",
       "      <th>2</th>\n",
       "      <td>User92</td>\n",
       "      <td>0</td>\n",
       "      <td>15/10/19 | 20:02:54</td>\n",
       "      <td>Action_10</td>\n",
       "      <td>2019-10-15 20:02:54</td>\n",
       "      <td>737347</td>\n",
       "    </tr>\n",
       "    <tr>\n",
       "      <th>3</th>\n",
       "      <td>User92</td>\n",
       "      <td>0</td>\n",
       "      <td>15/10/19 | 20:26:56</td>\n",
       "      <td>Action_7</td>\n",
       "      <td>2019-10-15 20:26:56</td>\n",
       "      <td>737347</td>\n",
       "    </tr>\n",
       "    <tr>\n",
       "      <th>4</th>\n",
       "      <td>User92</td>\n",
       "      <td>0</td>\n",
       "      <td>15/10/19 | 20:51:09</td>\n",
       "      <td>Action_0</td>\n",
       "      <td>2019-10-15 20:51:09</td>\n",
       "      <td>737347</td>\n",
       "    </tr>\n",
       "    <tr>\n",
       "      <th>...</th>\n",
       "      <td>...</td>\n",
       "      <td>...</td>\n",
       "      <td>...</td>\n",
       "      <td>...</td>\n",
       "      <td>...</td>\n",
       "      <td>...</td>\n",
       "    </tr>\n",
       "    <tr>\n",
       "      <th>2053478</th>\n",
       "      <td>User112</td>\n",
       "      <td>87190</td>\n",
       "      <td>08/07/21 | 03:18:55</td>\n",
       "      <td>END</td>\n",
       "      <td>2021-07-08 03:18:55</td>\n",
       "      <td>737979</td>\n",
       "    </tr>\n",
       "    <tr>\n",
       "      <th>2053479</th>\n",
       "      <td>User76</td>\n",
       "      <td>87191</td>\n",
       "      <td>28/07/21 | 14:35:47</td>\n",
       "      <td>Action_7</td>\n",
       "      <td>2021-07-28 14:35:47</td>\n",
       "      <td>737999</td>\n",
       "    </tr>\n",
       "    <tr>\n",
       "      <th>2053480</th>\n",
       "      <td>User76</td>\n",
       "      <td>87191</td>\n",
       "      <td>28/07/21 | 15:09:53</td>\n",
       "      <td>Action_9</td>\n",
       "      <td>2021-07-28 15:09:53</td>\n",
       "      <td>737999</td>\n",
       "    </tr>\n",
       "    <tr>\n",
       "      <th>2053481</th>\n",
       "      <td>User76</td>\n",
       "      <td>87191</td>\n",
       "      <td>28/07/21 | 14:59:10</td>\n",
       "      <td>Action_1</td>\n",
       "      <td>2021-07-28 14:59:10</td>\n",
       "      <td>737999</td>\n",
       "    </tr>\n",
       "    <tr>\n",
       "      <th>2053482</th>\n",
       "      <td>User76</td>\n",
       "      <td>87191</td>\n",
       "      <td>28/07/21 | 15:41:31</td>\n",
       "      <td>END</td>\n",
       "      <td>2021-07-28 15:41:31</td>\n",
       "      <td>737999</td>\n",
       "    </tr>\n",
       "  </tbody>\n",
       "</table>\n",
       "<p>2050709 rows × 6 columns</p>\n",
       "</div>"
      ],
      "text/plain": [
       "         user_id  session_num          action_time action_name   \n",
       "0         User92            0  15/10/19 | 18:08:02    Action_3  \\\n",
       "1         User92            0  15/10/19 | 18:54:49    Action_1   \n",
       "2         User92            0  15/10/19 | 20:02:54   Action_10   \n",
       "3         User92            0  15/10/19 | 20:26:56    Action_7   \n",
       "4         User92            0  15/10/19 | 20:51:09    Action_0   \n",
       "...          ...          ...                  ...         ...   \n",
       "2053478  User112        87190  08/07/21 | 03:18:55         END   \n",
       "2053479   User76        87191  28/07/21 | 14:35:47    Action_7   \n",
       "2053480   User76        87191  28/07/21 | 15:09:53    Action_9   \n",
       "2053481   User76        87191  28/07/21 | 14:59:10    Action_1   \n",
       "2053482   User76        87191  28/07/21 | 15:41:31         END   \n",
       "\n",
       "                   datetime     day  \n",
       "0       2019-10-15 18:08:02  737347  \n",
       "1       2019-10-15 18:54:49  737347  \n",
       "2       2019-10-15 20:02:54  737347  \n",
       "3       2019-10-15 20:26:56  737347  \n",
       "4       2019-10-15 20:51:09  737347  \n",
       "...                     ...     ...  \n",
       "2053478 2021-07-08 03:18:55  737979  \n",
       "2053479 2021-07-28 14:35:47  737999  \n",
       "2053480 2021-07-28 15:09:53  737999  \n",
       "2053481 2021-07-28 14:59:10  737999  \n",
       "2053482 2021-07-28 15:41:31  737999  \n",
       "\n",
       "[2050709 rows x 6 columns]"
      ]
     },
     "execution_count": 213,
     "metadata": {},
     "output_type": "execute_result"
    }
   ],
   "source": [
    "df_new"
   ]
  },
  {
   "cell_type": "code",
   "execution_count": 214,
   "id": "31b78e28",
   "metadata": {
    "scrolled": false
   },
   "outputs": [
    {
     "data": {
      "text/plain": [
       "user_id  day   \n",
       "User0    737304     1\n",
       "         737323    45\n",
       "         737324    40\n",
       "         737325     7\n",
       "         737326    13\n",
       "                   ..\n",
       "User99   738037    50\n",
       "         738038    10\n",
       "         738041    19\n",
       "         738042    13\n",
       "         738043    16\n",
       "Name: action_name, Length: 69762, dtype: int64"
      ]
     },
     "execution_count": 214,
     "metadata": {},
     "output_type": "execute_result"
    }
   ],
   "source": [
    "t = df_new.groupby(['user_id', 'day'])['action_name'].count()\n",
    "t"
   ]
  },
  {
   "cell_type": "markdown",
   "id": "16984a59",
   "metadata": {},
   "source": [
    "### ansewer"
   ]
  },
  {
   "cell_type": "code",
   "execution_count": 215,
   "id": "a29d4740",
   "metadata": {
    "scrolled": true
   },
   "outputs": [
    {
     "data": {
      "text/plain": [
       "29.395788538172646"
      ]
     },
     "execution_count": 215,
     "metadata": {},
     "output_type": "execute_result"
    }
   ],
   "source": [
    "sum(t)/len(t)"
   ]
  },
  {
   "cell_type": "markdown",
   "id": "3d8852c8",
   "metadata": {},
   "source": [
    "## The probability of repeating the same action three times in a row during one session"
   ]
  },
  {
   "cell_type": "code",
   "execution_count": 220,
   "id": "acac29e8",
   "metadata": {},
   "outputs": [],
   "source": [
    "grouped_data = df.groupby(['user_id', 'session_num'])"
   ]
  },
  {
   "cell_type": "code",
   "execution_count": 228,
   "id": "a4250d0c",
   "metadata": {
    "scrolled": true
   },
   "outputs": [],
   "source": [
    "mask = (grouped_data['action_name'].shift() == df['action_name']) & (grouped_data['action_name'].shift(-1) == df['action_name'])\n",
    "total_sessions = grouped_data['session_num'].nunique().count()\n",
    "repeated_sessions = mask.any().sum()\n",
    "probability = repeated_sessions / total_sessions"
   ]
  },
  {
   "cell_type": "code",
   "execution_count": 239,
   "id": "a3acbf9f",
   "metadata": {},
   "outputs": [],
   "source": [
    "sh = []\n",
    "for i in np.where(mask == True)[0]:\n",
    "    sh.append(i-1)\n",
    "    sh.append(i)\n",
    "    sh.append(i+1)"
   ]
  },
  {
   "cell_type": "code",
   "execution_count": 243,
   "id": "acf7c309",
   "metadata": {
    "scrolled": true
   },
   "outputs": [
    {
     "data": {
      "text/plain": [
       "210    Action_3\n",
       "211    Action_3\n",
       "212    Action_3\n",
       "329    Action_7\n",
       "330    Action_7\n",
       "331    Action_7\n",
       "380    Action_3\n",
       "381    Action_3\n",
       "382    Action_3\n",
       "447    Action_7\n",
       "448    Action_7\n",
       "449    Action_7\n",
       "522    Action_7\n",
       "523    Action_7\n",
       "524    Action_7\n",
       "593    Action_7\n",
       "594    Action_7\n",
       "595    Action_7\n",
       "Name: action_name, dtype: object"
      ]
     },
     "execution_count": 243,
     "metadata": {},
     "output_type": "execute_result"
    }
   ],
   "source": [
    "df['action_name'][sh].head(18)"
   ]
  },
  {
   "cell_type": "markdown",
   "id": "9495824f",
   "metadata": {},
   "source": [
    "### answer"
   ]
  },
  {
   "cell_type": "code",
   "execution_count": 227,
   "id": "c88442a8",
   "metadata": {},
   "outputs": [
    {
     "name": "stdout",
     "output_type": "stream",
     "text": [
      "1.1474337643859509e-05\n"
     ]
    }
   ],
   "source": [
    "print(probability)"
   ]
  },
  {
   "cell_type": "markdown",
   "id": "b7363cd7",
   "metadata": {},
   "source": [
    "## The 0.95 quantile of distribution of time delta between the actions of the same type distribution during one session "
   ]
  },
  {
   "cell_type": "code",
   "execution_count": 245,
   "id": "12c996c7",
   "metadata": {},
   "outputs": [],
   "source": [
    "df_new['timestamp'] = df_new['datetime'].apply(lambda x: x.timestamp())"
   ]
  },
  {
   "cell_type": "code",
   "execution_count": 255,
   "id": "086816b4",
   "metadata": {},
   "outputs": [
    {
     "data": {
      "text/plain": [
       "1          2807.0\n",
       "2          4085.0\n",
       "3          1442.0\n",
       "4          1453.0\n",
       "5          4178.0\n",
       "            ...  \n",
       "2053477    1157.0\n",
       "2053478    1234.0\n",
       "2053480    2046.0\n",
       "2053481    -643.0\n",
       "2053482    2541.0\n",
       "Name: timestamp, Length: 1963624, dtype: float64"
      ]
     },
     "execution_count": 255,
     "metadata": {},
     "output_type": "execute_result"
    }
   ],
   "source": [
    "grouped_data = df_new.groupby(['user_id', 'session_num'])\n",
    "time_deltas = grouped_data['timestamp'].diff()\n",
    "time_deltas = time_deltas.dropna()\n",
    "time_deltas"
   ]
  },
  {
   "cell_type": "code",
   "execution_count": 253,
   "id": "14325eff",
   "metadata": {},
   "outputs": [
    {
     "data": {
      "text/plain": [
       "8          2594.0\n",
       "12         -999.0\n",
       "16         2274.0\n",
       "34         1469.0\n",
       "40         2120.0\n",
       "            ...  \n",
       "2053439     279.0\n",
       "2053443    3592.0\n",
       "2053449    2268.0\n",
       "2053469     530.0\n",
       "2053470    2269.0\n",
       "Name: timestamp, Length: 257106, dtype: float64"
      ]
     },
     "execution_count": 253,
     "metadata": {},
     "output_type": "execute_result"
    }
   ],
   "source": [
    "same_type_time_deltas = time_deltas[df['action_name'].eq(df['action_name'].shift())]\n",
    "same_type_time_deltas"
   ]
  },
  {
   "cell_type": "code",
   "execution_count": 256,
   "id": "183250d5",
   "metadata": {},
   "outputs": [],
   "source": [
    "quantile_95 = np.quantile(same_type_time_deltas, 0.95)"
   ]
  },
  {
   "cell_type": "markdown",
   "id": "c01a8053",
   "metadata": {},
   "source": [
    "### answer"
   ]
  },
  {
   "cell_type": "code",
   "execution_count": 258,
   "id": "d1f72fdc",
   "metadata": {
    "scrolled": true
   },
   "outputs": [
    {
     "name": "stdout",
     "output_type": "stream",
     "text": [
      "Answer is: \n",
      "4278.0 seconds\n",
      "or\n",
      "71.3 minutes\n"
     ]
    }
   ],
   "source": [
    "print(f'Answer is: \\n{quantile_95} seconds\\nor\\n{quantile_95/60} minutes')"
   ]
  },
  {
   "cell_type": "markdown",
   "id": "e9decfdc",
   "metadata": {},
   "source": [
    "## Is there statistical difference of activity in different days of the week? And between weekends and workdays? "
   ]
  },
  {
   "cell_type": "code",
   "execution_count": 259,
   "id": "b9bca488",
   "metadata": {},
   "outputs": [],
   "source": [
    "df_new['weekday'] = df_new['datetime'].apply(lambda x: x.weekday())"
   ]
  },
  {
   "cell_type": "code",
   "execution_count": 273,
   "id": "383f8a52",
   "metadata": {},
   "outputs": [
    {
     "data": {
      "text/plain": [
       "weekday\n",
       "0    287383\n",
       "1    292354\n",
       "2    294519\n",
       "3    291829\n",
       "4    293430\n",
       "5    296003\n",
       "6    295191\n",
       "Name: action_name, dtype: int64"
      ]
     },
     "execution_count": 273,
     "metadata": {},
     "output_type": "execute_result"
    }
   ],
   "source": [
    "grouped_data = df_new.groupby('weekday')['action_name'].count()\n",
    "grouped_data"
   ]
  },
  {
   "cell_type": "code",
   "execution_count": 282,
   "id": "4deb4375",
   "metadata": {},
   "outputs": [
    {
     "data": {
      "text/plain": [
       "[287383, 292354, 294519, 291829, 293430, 296003, 295191]"
      ]
     },
     "execution_count": 282,
     "metadata": {},
     "output_type": "execute_result"
    }
   ],
   "source": [
    "[grouped_data[day] for day in range(7)]"
   ]
  },
  {
   "cell_type": "code",
   "execution_count": null,
   "id": "8d5b2f90",
   "metadata": {},
   "outputs": [],
   "source": [
    "from scipy.stats import chi2_contingency, ttest_ind\n",
    "weekends = df_new.loc[df_new['weekday'].isin([5, 6]), ['action_name']]\n",
    "workdays = df_new.loc[~df_new['weekday'].isin([5, 6]), ['action_name']]\n",
    "\n",
    "# Perform t-test for comparing activity counts between weekends and workdays\n",
    "t_statistic, p_value = ttest_ind(weekends, workdays)\n",
    "\n",
    "print(\"Chi-square test p-value:\", p_value)\n",
    "print(\"T-test p-value:\", p_value)"
   ]
  },
  {
   "cell_type": "markdown",
   "id": "6bcd408e",
   "metadata": {},
   "source": [
    "### answer"
   ]
  },
  {
   "cell_type": "code",
   "execution_count": 258,
   "id": "b36d3cab",
   "metadata": {
    "scrolled": true
   },
   "outputs": [
    {
     "name": "stdout",
     "output_type": "stream",
     "text": [
      "Answer is: \n",
      "4278.0 seconds\n",
      "or\n",
      "71.3 minutes\n"
     ]
    }
   ],
   "source": [
    "print(f'Answer is: \\n{quantile_95} seconds\\nor\\n{quantile_95/60} minutes')"
   ]
  },
  {
   "cell_type": "code",
   "execution_count": null,
   "id": "c975b077",
   "metadata": {},
   "outputs": [],
   "source": []
  },
  {
   "cell_type": "code",
   "execution_count": null,
   "id": "fdf4f2b0",
   "metadata": {},
   "outputs": [],
   "source": [
    "import pandas as pd\n"
   ]
  }
 ],
 "metadata": {
  "kernelspec": {
   "display_name": "Python 3 (ipykernel)",
   "language": "python",
   "name": "python3"
  },
  "language_info": {
   "codemirror_mode": {
    "name": "ipython",
    "version": 3
   },
   "file_extension": ".py",
   "mimetype": "text/x-python",
   "name": "python",
   "nbconvert_exporter": "python",
   "pygments_lexer": "ipython3",
   "version": "3.9.6"
  }
 },
 "nbformat": 4,
 "nbformat_minor": 5
}
